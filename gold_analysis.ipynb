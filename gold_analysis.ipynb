{
 "cells": [
  {
   "cell_type": "code",
   "execution_count": 1,
   "id": "1abb7d87",
   "metadata": {},
   "outputs": [],
   "source": [
    "# Analysing Gold Price hikes \n",
    "# analysing steps are following \n",
    "# 1. Mean\n",
    "# 2. Median\n",
    "# 3. Mode\n",
    "# 4. Standard Deviation\n",
    "# 5. Kurtosis\n",
    "# 6. Skewness\n",
    "# 7. Max\n",
    "# 8. Min\n",
    "# 9. Range\n",
    "# and last we make a linear regression model for prediction"
   ]
  },
  {
   "cell_type": "code",
   "execution_count": 2,
   "id": "9e9760f4",
   "metadata": {},
   "outputs": [],
   "source": [
    "# loading required libraries\n",
    "import os\n",
    "import numpy as np \n",
    "import pandas as pd\n",
    "import seaborn as sb\n",
    "from matplotlib import pyplot as plt\n",
    "%matplotlib inline\n"
   ]
  },
  {
   "cell_type": "code",
   "execution_count": 4,
   "id": "e5fe6381",
   "metadata": {},
   "outputs": [
    {
     "data": {
      "text/html": [
       "<div>\n",
       "<style scoped>\n",
       "    .dataframe tbody tr th:only-of-type {\n",
       "        vertical-align: middle;\n",
       "    }\n",
       "\n",
       "    .dataframe tbody tr th {\n",
       "        vertical-align: top;\n",
       "    }\n",
       "\n",
       "    .dataframe thead th {\n",
       "        text-align: right;\n",
       "    }\n",
       "</style>\n",
       "<table border=\"1\" class=\"dataframe\">\n",
       "  <thead>\n",
       "    <tr style=\"text-align: right;\">\n",
       "      <th></th>\n",
       "      <th>Year</th>\n",
       "      <th>Price_(24_karat_per_10_grams)</th>\n",
       "    </tr>\n",
       "  </thead>\n",
       "  <tbody>\n",
       "    <tr>\n",
       "      <th>0</th>\n",
       "      <td>1964</td>\n",
       "      <td>63.25</td>\n",
       "    </tr>\n",
       "    <tr>\n",
       "      <th>1</th>\n",
       "      <td>1965</td>\n",
       "      <td>71.75</td>\n",
       "    </tr>\n",
       "    <tr>\n",
       "      <th>2</th>\n",
       "      <td>1966</td>\n",
       "      <td>83.75</td>\n",
       "    </tr>\n",
       "    <tr>\n",
       "      <th>3</th>\n",
       "      <td>1967</td>\n",
       "      <td>102.50</td>\n",
       "    </tr>\n",
       "    <tr>\n",
       "      <th>4</th>\n",
       "      <td>1968</td>\n",
       "      <td>162.00</td>\n",
       "    </tr>\n",
       "    <tr>\n",
       "      <th>5</th>\n",
       "      <td>1969</td>\n",
       "      <td>176.00</td>\n",
       "    </tr>\n",
       "    <tr>\n",
       "      <th>6</th>\n",
       "      <td>1970</td>\n",
       "      <td>184.00</td>\n",
       "    </tr>\n",
       "    <tr>\n",
       "      <th>7</th>\n",
       "      <td>1971</td>\n",
       "      <td>193.00</td>\n",
       "    </tr>\n",
       "    <tr>\n",
       "      <th>8</th>\n",
       "      <td>1972</td>\n",
       "      <td>202.00</td>\n",
       "    </tr>\n",
       "    <tr>\n",
       "      <th>9</th>\n",
       "      <td>1973</td>\n",
       "      <td>278.50</td>\n",
       "    </tr>\n",
       "    <tr>\n",
       "      <th>10</th>\n",
       "      <td>1974</td>\n",
       "      <td>506.00</td>\n",
       "    </tr>\n",
       "    <tr>\n",
       "      <th>11</th>\n",
       "      <td>1975</td>\n",
       "      <td>540.00</td>\n",
       "    </tr>\n",
       "    <tr>\n",
       "      <th>12</th>\n",
       "      <td>1976</td>\n",
       "      <td>432.00</td>\n",
       "    </tr>\n",
       "    <tr>\n",
       "      <th>13</th>\n",
       "      <td>1977</td>\n",
       "      <td>486.00</td>\n",
       "    </tr>\n",
       "    <tr>\n",
       "      <th>14</th>\n",
       "      <td>1978</td>\n",
       "      <td>685.00</td>\n",
       "    </tr>\n",
       "    <tr>\n",
       "      <th>15</th>\n",
       "      <td>1979</td>\n",
       "      <td>937.00</td>\n",
       "    </tr>\n",
       "    <tr>\n",
       "      <th>16</th>\n",
       "      <td>1980</td>\n",
       "      <td>1330.00</td>\n",
       "    </tr>\n",
       "    <tr>\n",
       "      <th>17</th>\n",
       "      <td>1981</td>\n",
       "      <td>1800.00</td>\n",
       "    </tr>\n",
       "    <tr>\n",
       "      <th>18</th>\n",
       "      <td>1982</td>\n",
       "      <td>1645.00</td>\n",
       "    </tr>\n",
       "    <tr>\n",
       "      <th>19</th>\n",
       "      <td>1983</td>\n",
       "      <td>1800.00</td>\n",
       "    </tr>\n",
       "    <tr>\n",
       "      <th>20</th>\n",
       "      <td>1984</td>\n",
       "      <td>1970.00</td>\n",
       "    </tr>\n",
       "    <tr>\n",
       "      <th>21</th>\n",
       "      <td>1985</td>\n",
       "      <td>2130.00</td>\n",
       "    </tr>\n",
       "    <tr>\n",
       "      <th>22</th>\n",
       "      <td>1986</td>\n",
       "      <td>2140.00</td>\n",
       "    </tr>\n",
       "    <tr>\n",
       "      <th>23</th>\n",
       "      <td>1987</td>\n",
       "      <td>2570.00</td>\n",
       "    </tr>\n",
       "    <tr>\n",
       "      <th>24</th>\n",
       "      <td>1988</td>\n",
       "      <td>3130.00</td>\n",
       "    </tr>\n",
       "    <tr>\n",
       "      <th>25</th>\n",
       "      <td>1989</td>\n",
       "      <td>3140.00</td>\n",
       "    </tr>\n",
       "    <tr>\n",
       "      <th>26</th>\n",
       "      <td>1990</td>\n",
       "      <td>3200.00</td>\n",
       "    </tr>\n",
       "    <tr>\n",
       "      <th>27</th>\n",
       "      <td>1991</td>\n",
       "      <td>3466.00</td>\n",
       "    </tr>\n",
       "    <tr>\n",
       "      <th>28</th>\n",
       "      <td>1992</td>\n",
       "      <td>4334.00</td>\n",
       "    </tr>\n",
       "    <tr>\n",
       "      <th>29</th>\n",
       "      <td>1993</td>\n",
       "      <td>4140.00</td>\n",
       "    </tr>\n",
       "    <tr>\n",
       "      <th>30</th>\n",
       "      <td>1994</td>\n",
       "      <td>4598.00</td>\n",
       "    </tr>\n",
       "    <tr>\n",
       "      <th>31</th>\n",
       "      <td>1995</td>\n",
       "      <td>4680.00</td>\n",
       "    </tr>\n",
       "    <tr>\n",
       "      <th>32</th>\n",
       "      <td>1996</td>\n",
       "      <td>5160.00</td>\n",
       "    </tr>\n",
       "    <tr>\n",
       "      <th>33</th>\n",
       "      <td>1997</td>\n",
       "      <td>4725.00</td>\n",
       "    </tr>\n",
       "    <tr>\n",
       "      <th>34</th>\n",
       "      <td>1998</td>\n",
       "      <td>4045.00</td>\n",
       "    </tr>\n",
       "    <tr>\n",
       "      <th>35</th>\n",
       "      <td>1999</td>\n",
       "      <td>4234.00</td>\n",
       "    </tr>\n",
       "    <tr>\n",
       "      <th>36</th>\n",
       "      <td>2000</td>\n",
       "      <td>4400.00</td>\n",
       "    </tr>\n",
       "    <tr>\n",
       "      <th>37</th>\n",
       "      <td>2001</td>\n",
       "      <td>4300.00</td>\n",
       "    </tr>\n",
       "    <tr>\n",
       "      <th>38</th>\n",
       "      <td>2002</td>\n",
       "      <td>4990.00</td>\n",
       "    </tr>\n",
       "    <tr>\n",
       "      <th>39</th>\n",
       "      <td>2003</td>\n",
       "      <td>5600.00</td>\n",
       "    </tr>\n",
       "    <tr>\n",
       "      <th>40</th>\n",
       "      <td>2004</td>\n",
       "      <td>5850.00</td>\n",
       "    </tr>\n",
       "    <tr>\n",
       "      <th>41</th>\n",
       "      <td>2005</td>\n",
       "      <td>7000.00</td>\n",
       "    </tr>\n",
       "    <tr>\n",
       "      <th>42</th>\n",
       "      <td>2007</td>\n",
       "      <td>10800.00</td>\n",
       "    </tr>\n",
       "    <tr>\n",
       "      <th>43</th>\n",
       "      <td>2008</td>\n",
       "      <td>12500.00</td>\n",
       "    </tr>\n",
       "    <tr>\n",
       "      <th>44</th>\n",
       "      <td>2009</td>\n",
       "      <td>14500.00</td>\n",
       "    </tr>\n",
       "    <tr>\n",
       "      <th>45</th>\n",
       "      <td>2010</td>\n",
       "      <td>18500.00</td>\n",
       "    </tr>\n",
       "    <tr>\n",
       "      <th>46</th>\n",
       "      <td>2011</td>\n",
       "      <td>26400.00</td>\n",
       "    </tr>\n",
       "    <tr>\n",
       "      <th>47</th>\n",
       "      <td>2012</td>\n",
       "      <td>31050.00</td>\n",
       "    </tr>\n",
       "    <tr>\n",
       "      <th>48</th>\n",
       "      <td>2013</td>\n",
       "      <td>29600.00</td>\n",
       "    </tr>\n",
       "    <tr>\n",
       "      <th>49</th>\n",
       "      <td>2014</td>\n",
       "      <td>28006.50</td>\n",
       "    </tr>\n",
       "    <tr>\n",
       "      <th>50</th>\n",
       "      <td>2015</td>\n",
       "      <td>26343.50</td>\n",
       "    </tr>\n",
       "    <tr>\n",
       "      <th>51</th>\n",
       "      <td>2016</td>\n",
       "      <td>28623.50</td>\n",
       "    </tr>\n",
       "    <tr>\n",
       "      <th>52</th>\n",
       "      <td>2017</td>\n",
       "      <td>29667.50</td>\n",
       "    </tr>\n",
       "    <tr>\n",
       "      <th>53</th>\n",
       "      <td>2018</td>\n",
       "      <td>31438.00</td>\n",
       "    </tr>\n",
       "    <tr>\n",
       "      <th>54</th>\n",
       "      <td>2019</td>\n",
       "      <td>35220.00</td>\n",
       "    </tr>\n",
       "    <tr>\n",
       "      <th>55</th>\n",
       "      <td>2020</td>\n",
       "      <td>48651.00</td>\n",
       "    </tr>\n",
       "    <tr>\n",
       "      <th>56</th>\n",
       "      <td>2021</td>\n",
       "      <td>48720.00</td>\n",
       "    </tr>\n",
       "    <tr>\n",
       "      <th>57</th>\n",
       "      <td>2022</td>\n",
       "      <td>52670.00</td>\n",
       "    </tr>\n",
       "  </tbody>\n",
       "</table>\n",
       "</div>"
      ],
      "text/plain": [
       "    Year  Price_(24_karat_per_10_grams)\n",
       "0   1964                          63.25\n",
       "1   1965                          71.75\n",
       "2   1966                          83.75\n",
       "3   1967                         102.50\n",
       "4   1968                         162.00\n",
       "5   1969                         176.00\n",
       "6   1970                         184.00\n",
       "7   1971                         193.00\n",
       "8   1972                         202.00\n",
       "9   1973                         278.50\n",
       "10  1974                         506.00\n",
       "11  1975                         540.00\n",
       "12  1976                         432.00\n",
       "13  1977                         486.00\n",
       "14  1978                         685.00\n",
       "15  1979                         937.00\n",
       "16  1980                        1330.00\n",
       "17  1981                        1800.00\n",
       "18  1982                        1645.00\n",
       "19  1983                        1800.00\n",
       "20  1984                        1970.00\n",
       "21  1985                        2130.00\n",
       "22  1986                        2140.00\n",
       "23  1987                        2570.00\n",
       "24  1988                        3130.00\n",
       "25  1989                        3140.00\n",
       "26  1990                        3200.00\n",
       "27  1991                        3466.00\n",
       "28  1992                        4334.00\n",
       "29  1993                        4140.00\n",
       "30  1994                        4598.00\n",
       "31  1995                        4680.00\n",
       "32  1996                        5160.00\n",
       "33  1997                        4725.00\n",
       "34  1998                        4045.00\n",
       "35  1999                        4234.00\n",
       "36  2000                        4400.00\n",
       "37  2001                        4300.00\n",
       "38  2002                        4990.00\n",
       "39  2003                        5600.00\n",
       "40  2004                        5850.00\n",
       "41  2005                        7000.00\n",
       "42  2007                       10800.00\n",
       "43  2008                       12500.00\n",
       "44  2009                       14500.00\n",
       "45  2010                       18500.00\n",
       "46  2011                       26400.00\n",
       "47  2012                       31050.00\n",
       "48  2013                       29600.00\n",
       "49  2014                       28006.50\n",
       "50  2015                       26343.50\n",
       "51  2016                       28623.50\n",
       "52  2017                       29667.50\n",
       "53  2018                       31438.00\n",
       "54  2019                       35220.00\n",
       "55  2020                       48651.00\n",
       "56  2021                       48720.00\n",
       "57  2022                       52670.00"
      ]
     },
     "execution_count": 4,
     "metadata": {},
     "output_type": "execute_result"
    }
   ],
   "source": [
    "# loading required data set \n",
    "workingDirectory = os.getcwd()\n",
    "workingDirectory\n",
    "path = workingDirectory + '/gold_price.xlsx'\n",
    "data = pd.read_excel(path)\n",
    "data"
   ]
  },
  {
   "cell_type": "code",
   "execution_count": 5,
   "id": "d84a1532",
   "metadata": {},
   "outputs": [
    {
     "data": {
      "text/html": [
       "<div>\n",
       "<style scoped>\n",
       "    .dataframe tbody tr th:only-of-type {\n",
       "        vertical-align: middle;\n",
       "    }\n",
       "\n",
       "    .dataframe tbody tr th {\n",
       "        vertical-align: top;\n",
       "    }\n",
       "\n",
       "    .dataframe thead th {\n",
       "        text-align: right;\n",
       "    }\n",
       "</style>\n",
       "<table border=\"1\" class=\"dataframe\">\n",
       "  <thead>\n",
       "    <tr style=\"text-align: right;\">\n",
       "      <th></th>\n",
       "      <th>Year</th>\n",
       "      <th>Price_(24_karat_per_10_grams)</th>\n",
       "    </tr>\n",
       "  </thead>\n",
       "  <tbody>\n",
       "    <tr>\n",
       "      <th>0</th>\n",
       "      <td>1964</td>\n",
       "      <td>63.25</td>\n",
       "    </tr>\n",
       "    <tr>\n",
       "      <th>1</th>\n",
       "      <td>1965</td>\n",
       "      <td>71.75</td>\n",
       "    </tr>\n",
       "    <tr>\n",
       "      <th>2</th>\n",
       "      <td>1966</td>\n",
       "      <td>83.75</td>\n",
       "    </tr>\n",
       "    <tr>\n",
       "      <th>3</th>\n",
       "      <td>1967</td>\n",
       "      <td>102.50</td>\n",
       "    </tr>\n",
       "    <tr>\n",
       "      <th>4</th>\n",
       "      <td>1968</td>\n",
       "      <td>162.00</td>\n",
       "    </tr>\n",
       "    <tr>\n",
       "      <th>5</th>\n",
       "      <td>1969</td>\n",
       "      <td>176.00</td>\n",
       "    </tr>\n",
       "    <tr>\n",
       "      <th>6</th>\n",
       "      <td>1970</td>\n",
       "      <td>184.00</td>\n",
       "    </tr>\n",
       "    <tr>\n",
       "      <th>7</th>\n",
       "      <td>1971</td>\n",
       "      <td>193.00</td>\n",
       "    </tr>\n",
       "    <tr>\n",
       "      <th>8</th>\n",
       "      <td>1972</td>\n",
       "      <td>202.00</td>\n",
       "    </tr>\n",
       "    <tr>\n",
       "      <th>9</th>\n",
       "      <td>1973</td>\n",
       "      <td>278.50</td>\n",
       "    </tr>\n",
       "  </tbody>\n",
       "</table>\n",
       "</div>"
      ],
      "text/plain": [
       "   Year  Price_(24_karat_per_10_grams)\n",
       "0  1964                          63.25\n",
       "1  1965                          71.75\n",
       "2  1966                          83.75\n",
       "3  1967                         102.50\n",
       "4  1968                         162.00\n",
       "5  1969                         176.00\n",
       "6  1970                         184.00\n",
       "7  1971                         193.00\n",
       "8  1972                         202.00\n",
       "9  1973                         278.50"
      ]
     },
     "execution_count": 5,
     "metadata": {},
     "output_type": "execute_result"
    }
   ],
   "source": [
    "#  first 10 rows\n",
    "data.head(10)"
   ]
  },
  {
   "cell_type": "code",
   "execution_count": 6,
   "id": "45b2cdf8",
   "metadata": {},
   "outputs": [
    {
     "data": {
      "text/html": [
       "<div>\n",
       "<style scoped>\n",
       "    .dataframe tbody tr th:only-of-type {\n",
       "        vertical-align: middle;\n",
       "    }\n",
       "\n",
       "    .dataframe tbody tr th {\n",
       "        vertical-align: top;\n",
       "    }\n",
       "\n",
       "    .dataframe thead th {\n",
       "        text-align: right;\n",
       "    }\n",
       "</style>\n",
       "<table border=\"1\" class=\"dataframe\">\n",
       "  <thead>\n",
       "    <tr style=\"text-align: right;\">\n",
       "      <th></th>\n",
       "      <th>Year</th>\n",
       "      <th>Price_(24_karat_per_10_grams)</th>\n",
       "    </tr>\n",
       "  </thead>\n",
       "  <tbody>\n",
       "    <tr>\n",
       "      <th>48</th>\n",
       "      <td>2013</td>\n",
       "      <td>29600.0</td>\n",
       "    </tr>\n",
       "    <tr>\n",
       "      <th>49</th>\n",
       "      <td>2014</td>\n",
       "      <td>28006.5</td>\n",
       "    </tr>\n",
       "    <tr>\n",
       "      <th>50</th>\n",
       "      <td>2015</td>\n",
       "      <td>26343.5</td>\n",
       "    </tr>\n",
       "    <tr>\n",
       "      <th>51</th>\n",
       "      <td>2016</td>\n",
       "      <td>28623.5</td>\n",
       "    </tr>\n",
       "    <tr>\n",
       "      <th>52</th>\n",
       "      <td>2017</td>\n",
       "      <td>29667.5</td>\n",
       "    </tr>\n",
       "    <tr>\n",
       "      <th>53</th>\n",
       "      <td>2018</td>\n",
       "      <td>31438.0</td>\n",
       "    </tr>\n",
       "    <tr>\n",
       "      <th>54</th>\n",
       "      <td>2019</td>\n",
       "      <td>35220.0</td>\n",
       "    </tr>\n",
       "    <tr>\n",
       "      <th>55</th>\n",
       "      <td>2020</td>\n",
       "      <td>48651.0</td>\n",
       "    </tr>\n",
       "    <tr>\n",
       "      <th>56</th>\n",
       "      <td>2021</td>\n",
       "      <td>48720.0</td>\n",
       "    </tr>\n",
       "    <tr>\n",
       "      <th>57</th>\n",
       "      <td>2022</td>\n",
       "      <td>52670.0</td>\n",
       "    </tr>\n",
       "  </tbody>\n",
       "</table>\n",
       "</div>"
      ],
      "text/plain": [
       "    Year  Price_(24_karat_per_10_grams)\n",
       "48  2013                        29600.0\n",
       "49  2014                        28006.5\n",
       "50  2015                        26343.5\n",
       "51  2016                        28623.5\n",
       "52  2017                        29667.5\n",
       "53  2018                        31438.0\n",
       "54  2019                        35220.0\n",
       "55  2020                        48651.0\n",
       "56  2021                        48720.0\n",
       "57  2022                        52670.0"
      ]
     },
     "execution_count": 6,
     "metadata": {},
     "output_type": "execute_result"
    }
   ],
   "source": [
    "#  first 10 rows\n",
    "data.tail(10)"
   ]
  },
  {
   "cell_type": "code",
   "execution_count": 7,
   "id": "62729859",
   "metadata": {},
   "outputs": [
    {
     "data": {
      "text/plain": [
       "(58, 2)"
      ]
     },
     "execution_count": 7,
     "metadata": {},
     "output_type": "execute_result"
    }
   ],
   "source": [
    "data.shape"
   ]
  },
  {
   "cell_type": "code",
   "execution_count": 8,
   "id": "7884b0df",
   "metadata": {},
   "outputs": [],
   "source": [
    "# data"
   ]
  },
  {
   "cell_type": "code",
   "execution_count": 9,
   "id": "c4ec9f9f",
   "metadata": {},
   "outputs": [
    {
     "data": {
      "text/plain": [
       "1964    1\n",
       "2008    1\n",
       "1995    1\n",
       "1996    1\n",
       "1997    1\n",
       "1998    1\n",
       "1999    1\n",
       "2000    1\n",
       "2001    1\n",
       "2002    1\n",
       "2003    1\n",
       "2004    1\n",
       "2005    1\n",
       "2007    1\n",
       "2009    1\n",
       "1965    1\n",
       "2010    1\n",
       "2011    1\n",
       "2012    1\n",
       "2013    1\n",
       "2014    1\n",
       "2015    1\n",
       "2016    1\n",
       "2017    1\n",
       "2018    1\n",
       "2019    1\n",
       "2020    1\n",
       "2021    1\n",
       "1994    1\n",
       "1993    1\n",
       "1992    1\n",
       "1991    1\n",
       "1966    1\n",
       "1967    1\n",
       "1968    1\n",
       "1969    1\n",
       "1970    1\n",
       "1971    1\n",
       "1972    1\n",
       "1973    1\n",
       "1974    1\n",
       "1975    1\n",
       "1976    1\n",
       "1977    1\n",
       "1978    1\n",
       "1979    1\n",
       "1980    1\n",
       "1981    1\n",
       "1982    1\n",
       "1983    1\n",
       "1984    1\n",
       "1985    1\n",
       "1986    1\n",
       "1987    1\n",
       "1988    1\n",
       "1989    1\n",
       "1990    1\n",
       "2022    1\n",
       "Name: Year, dtype: int64"
      ]
     },
     "execution_count": 9,
     "metadata": {},
     "output_type": "execute_result"
    }
   ],
   "source": [
    "data['Year'].value_counts()"
   ]
  },
  {
   "cell_type": "code",
   "execution_count": 10,
   "id": "3898cf08",
   "metadata": {},
   "outputs": [
    {
     "data": {
      "text/plain": [
       "1964    1\n",
       "2008    1\n",
       "1995    1\n",
       "1996    1\n",
       "1997    1\n",
       "1998    1\n",
       "1999    1\n",
       "2000    1\n",
       "2001    1\n",
       "2002    1\n",
       "2003    1\n",
       "2004    1\n",
       "2005    1\n",
       "2007    1\n",
       "2009    1\n",
       "1965    1\n",
       "2010    1\n",
       "2011    1\n",
       "2012    1\n",
       "2013    1\n",
       "2014    1\n",
       "2015    1\n",
       "2016    1\n",
       "2017    1\n",
       "2018    1\n",
       "2019    1\n",
       "2020    1\n",
       "2021    1\n",
       "1994    1\n",
       "1993    1\n",
       "1992    1\n",
       "1991    1\n",
       "1966    1\n",
       "1967    1\n",
       "1968    1\n",
       "1969    1\n",
       "1970    1\n",
       "1971    1\n",
       "1972    1\n",
       "1973    1\n",
       "1974    1\n",
       "1975    1\n",
       "1976    1\n",
       "1977    1\n",
       "1978    1\n",
       "1979    1\n",
       "1980    1\n",
       "1981    1\n",
       "1982    1\n",
       "1983    1\n",
       "1984    1\n",
       "1985    1\n",
       "1986    1\n",
       "1987    1\n",
       "1988    1\n",
       "1989    1\n",
       "1990    1\n",
       "2022    1\n",
       "Name: Year, dtype: int64"
      ]
     },
     "execution_count": 10,
     "metadata": {},
     "output_type": "execute_result"
    }
   ],
   "source": [
    "data['Year'].value_counts()"
   ]
  },
  {
   "cell_type": "code",
   "execution_count": 11,
   "id": "03687480",
   "metadata": {},
   "outputs": [
    {
     "data": {
      "text/plain": [
       "1800.00     2\n",
       "63.25       1\n",
       "12500.00    1\n",
       "5160.00     1\n",
       "4725.00     1\n",
       "4045.00     1\n",
       "4234.00     1\n",
       "4400.00     1\n",
       "4300.00     1\n",
       "4990.00     1\n",
       "5600.00     1\n",
       "5850.00     1\n",
       "7000.00     1\n",
       "10800.00    1\n",
       "14500.00    1\n",
       "4598.00     1\n",
       "18500.00    1\n",
       "26400.00    1\n",
       "31050.00    1\n",
       "29600.00    1\n",
       "28006.50    1\n",
       "26343.50    1\n",
       "28623.50    1\n",
       "29667.50    1\n",
       "31438.00    1\n",
       "35220.00    1\n",
       "48651.00    1\n",
       "48720.00    1\n",
       "4680.00     1\n",
       "4140.00     1\n",
       "71.75       1\n",
       "486.00      1\n",
       "83.75       1\n",
       "102.50      1\n",
       "162.00      1\n",
       "176.00      1\n",
       "184.00      1\n",
       "193.00      1\n",
       "202.00      1\n",
       "278.50      1\n",
       "506.00      1\n",
       "540.00      1\n",
       "432.00      1\n",
       "685.00      1\n",
       "4334.00     1\n",
       "937.00      1\n",
       "1330.00     1\n",
       "1645.00     1\n",
       "1970.00     1\n",
       "2130.00     1\n",
       "2140.00     1\n",
       "2570.00     1\n",
       "3130.00     1\n",
       "3140.00     1\n",
       "3200.00     1\n",
       "3466.00     1\n",
       "52670.00    1\n",
       "Name: Price_(24_karat_per_10_grams), dtype: int64"
      ]
     },
     "execution_count": 11,
     "metadata": {},
     "output_type": "execute_result"
    }
   ],
   "source": [
    "data['Price_(24_karat_per_10_grams)'].value_counts()"
   ]
  },
  {
   "cell_type": "code",
   "execution_count": 12,
   "id": "a534bcc3",
   "metadata": {},
   "outputs": [
    {
     "data": {
      "text/plain": [
       "[1964,\n",
       " 1965,\n",
       " 1966,\n",
       " 1967,\n",
       " 1968,\n",
       " 1969,\n",
       " 1970,\n",
       " 1971,\n",
       " 1972,\n",
       " 1973,\n",
       " 1974,\n",
       " 1975,\n",
       " 1976,\n",
       " 1977,\n",
       " 1978,\n",
       " 1979,\n",
       " 1980,\n",
       " 1981,\n",
       " 1982,\n",
       " 1983,\n",
       " 1984,\n",
       " 1985,\n",
       " 1986,\n",
       " 1987,\n",
       " 1988,\n",
       " 1989,\n",
       " 1990,\n",
       " 1991,\n",
       " 1992,\n",
       " 1993,\n",
       " 1994,\n",
       " 1995,\n",
       " 1996,\n",
       " 1997,\n",
       " 1998,\n",
       " 1999,\n",
       " 2000,\n",
       " 2001,\n",
       " 2002,\n",
       " 2003,\n",
       " 2004,\n",
       " 2005,\n",
       " 2007,\n",
       " 2008,\n",
       " 2009,\n",
       " 2010,\n",
       " 2011,\n",
       " 2012,\n",
       " 2013,\n",
       " 2014,\n",
       " 2015,\n",
       " 2016,\n",
       " 2017,\n",
       " 2018,\n",
       " 2019,\n",
       " 2020,\n",
       " 2021,\n",
       " 2022]"
      ]
     },
     "execution_count": 12,
     "metadata": {},
     "output_type": "execute_result"
    }
   ],
   "source": [
    "year = list(data['Year'])\n",
    "year\n"
   ]
  },
  {
   "cell_type": "code",
   "execution_count": 13,
   "id": "ee7d92e3",
   "metadata": {},
   "outputs": [
    {
     "data": {
      "text/plain": [
       "[63.25,\n",
       " 71.75,\n",
       " 83.75,\n",
       " 102.5,\n",
       " 162.0,\n",
       " 176.0,\n",
       " 184.0,\n",
       " 193.0,\n",
       " 202.0,\n",
       " 278.5,\n",
       " 506.0,\n",
       " 540.0,\n",
       " 432.0,\n",
       " 486.0,\n",
       " 685.0,\n",
       " 937.0,\n",
       " 1330.0,\n",
       " 1800.0,\n",
       " 1645.0,\n",
       " 1800.0,\n",
       " 1970.0,\n",
       " 2130.0,\n",
       " 2140.0,\n",
       " 2570.0,\n",
       " 3130.0,\n",
       " 3140.0,\n",
       " 3200.0,\n",
       " 3466.0,\n",
       " 4334.0,\n",
       " 4140.0,\n",
       " 4598.0,\n",
       " 4680.0,\n",
       " 5160.0,\n",
       " 4725.0,\n",
       " 4045.0,\n",
       " 4234.0,\n",
       " 4400.0,\n",
       " 4300.0,\n",
       " 4990.0,\n",
       " 5600.0,\n",
       " 5850.0,\n",
       " 7000.0,\n",
       " 10800.0,\n",
       " 12500.0,\n",
       " 14500.0,\n",
       " 18500.0,\n",
       " 26400.0,\n",
       " 31050.0,\n",
       " 29600.0,\n",
       " 28006.5,\n",
       " 26343.5,\n",
       " 28623.5,\n",
       " 29667.5,\n",
       " 31438.0,\n",
       " 35220.0,\n",
       " 48651.0,\n",
       " 48720.0,\n",
       " 52670.0]"
      ]
     },
     "execution_count": 13,
     "metadata": {},
     "output_type": "execute_result"
    }
   ],
   "source": [
    "price = list(data['Price_(24_karat_per_10_grams)'])\n",
    "price"
   ]
  },
  {
   "cell_type": "code",
   "execution_count": 14,
   "id": "26a373ac",
   "metadata": {},
   "outputs": [
    {
     "data": {
      "image/png": "[encoded data removed]",
      "text/plain": [
       "<Figure size 2000x1400 with 1 Axes>"
      ]
     },
     "metadata": {},
     "output_type": "display_data"
    }
   ],
   "source": [
    "# plotting graph to visualize the price heights \n",
    "plt.figure(figsize=(20,14))\n",
    "plt.bar(year,price,color='g')\n",
    "plt.xlabel('---- Year ----', fontsize=20)\n",
    "plt.ylabel('---- Price ----', fontsize=20)\n",
    "plt.title('Bar Graph of Gold Price Hikes', fontsize=22)\n",
    "plt.show()"
   ]
  },
  {
   "cell_type": "code",
   "execution_count": 15,
   "id": "f8886648",
   "metadata": {},
   "outputs": [
    {
     "data": {
      "text/plain": [
       "574169.75"
      ]
     },
     "execution_count": 15,
     "metadata": {},
     "output_type": "execute_result"
    }
   ],
   "source": [
    "# finding the max, min, range \n",
    "summm =data['Price_(24_karat_per_10_grams)'].sum()\n",
    "summm"
   ]
  },
  {
   "cell_type": "code",
   "execution_count": 16,
   "id": "690df00e",
   "metadata": {},
   "outputs": [
    {
     "data": {
      "text/plain": [
       "52670.0"
      ]
     },
     "execution_count": 16,
     "metadata": {},
     "output_type": "execute_result"
    }
   ],
   "source": [
    "# max\n",
    "data['Price_(24_karat_per_10_grams)'].max()"
   ]
  },
  {
   "cell_type": "code",
   "execution_count": 17,
   "id": "218b8ef7",
   "metadata": {},
   "outputs": [
    {
     "data": {
      "text/plain": [
       "63.25"
      ]
     },
     "execution_count": 17,
     "metadata": {},
     "output_type": "execute_result"
    }
   ],
   "source": [
    "# min\n",
    "data['Price_(24_karat_per_10_grams)'].min()"
   ]
  },
  {
   "cell_type": "code",
   "execution_count": 18,
   "id": "2c0a16b8",
   "metadata": {},
   "outputs": [
    {
     "data": {
      "text/plain": [
       "52606.75"
      ]
     },
     "execution_count": 18,
     "metadata": {},
     "output_type": "execute_result"
    }
   ],
   "source": [
    "# range\n",
    "drange = (data['Price_(24_karat_per_10_grams)'].max() - data['Price_(24_karat_per_10_grams)'].min())\n",
    "drange"
   ]
  },
  {
   "cell_type": "code",
   "execution_count": 19,
   "id": "3b4c249e",
   "metadata": {},
   "outputs": [],
   "source": [
    "# finding mean, median, mode"
   ]
  },
  {
   "cell_type": "code",
   "execution_count": 20,
   "id": "b88795f8",
   "metadata": {},
   "outputs": [
    {
     "data": {
      "text/plain": [
       "9899.478448275862"
      ]
     },
     "execution_count": 20,
     "metadata": {},
     "output_type": "execute_result"
    }
   ],
   "source": [
    "# Mean\n",
    "dmean = data['Price_(24_karat_per_10_grams)'].mean()\n",
    "dmean"
   ]
  },
  {
   "cell_type": "code",
   "execution_count": 21,
   "id": "260ac203",
   "metadata": {},
   "outputs": [],
   "source": [
    "# median\n",
    "dmedian = data['Price_(24_karat_per_10_grams)'].median()"
   ]
  },
  {
   "cell_type": "code",
   "execution_count": 22,
   "id": "015e11f5",
   "metadata": {},
   "outputs": [
    {
     "data": {
      "text/plain": [
       "0    1800.0\n",
       "Name: Price_(24_karat_per_10_grams), dtype: float64"
      ]
     },
     "execution_count": 22,
     "metadata": {},
     "output_type": "execute_result"
    }
   ],
   "source": [
    "# mode\n",
    "dmode = data['Price_(24_karat_per_10_grams)'].mode()\n",
    "dmode"
   ]
  },
  {
   "cell_type": "code",
   "execution_count": 23,
   "id": "bd1507d5",
   "metadata": {},
   "outputs": [
    {
     "data": {
      "text/plain": [
       "193237224.20018527"
      ]
     },
     "execution_count": 23,
     "metadata": {},
     "output_type": "execute_result"
    }
   ],
   "source": [
    "# variance\n",
    "dvar = data['Price_(24_karat_per_10_grams)'].var()\n",
    "dvar\n"
   ]
  },
  {
   "cell_type": "code",
   "execution_count": 24,
   "id": "9d08b228",
   "metadata": {},
   "outputs": [
    {
     "data": {
      "text/plain": [
       "13900.979253282312"
      ]
     },
     "execution_count": 24,
     "metadata": {},
     "output_type": "execute_result"
    }
   ],
   "source": [
    "# Standard Deviation\n",
    "dstd = data['Price_(24_karat_per_10_grams)'].std()\n",
    "dstd"
   ]
  },
  {
   "cell_type": "code",
   "execution_count": 25,
   "id": "6c92ad55",
   "metadata": {},
   "outputs": [
    {
     "data": {
      "text/plain": [
       "1.8320474278661307"
      ]
     },
     "execution_count": 25,
     "metadata": {},
     "output_type": "execute_result"
    }
   ],
   "source": [
    "# kurtosis \n",
    "dkurt = data['Price_(24_karat_per_10_grams)'].kurtosis()\n",
    "dkurt"
   ]
  },
  {
   "cell_type": "code",
   "execution_count": 26,
   "id": "46f29213",
   "metadata": {},
   "outputs": [
    {
     "data": {
      "text/plain": [
       "1.6701838416459258"
      ]
     },
     "execution_count": 26,
     "metadata": {},
     "output_type": "execute_result"
    }
   ],
   "source": [
    "# skewness\n",
    "dskew = data['Price_(24_karat_per_10_grams)'].skew()\n",
    "dskew"
   ]
  },
  {
   "cell_type": "code",
   "execution_count": 27,
   "id": "e008eb71",
   "metadata": {},
   "outputs": [
    {
     "data": {
      "image/png": "[encoded data removed]",
      "text/plain": [
       "<Figure size 2000x2000 with 1 Axes>"
      ]
     },
     "metadata": {},
     "output_type": "display_data"
    }
   ],
   "source": [
    "# line graph to show hikes\n",
    "plt.figure(figsize=(20,20))\n",
    "plt.plot(year, price)\n",
    "plt.xlabel('---- Year ----', fontsize=20)\n",
    "plt.ylabel('---- Price ----', fontsize=20)\n",
    "plt.title('line Graph of Gold Price Hikes', fontsize=22)\n",
    "plt.show()"
   ]
  },
  {
   "cell_type": "markdown",
   "id": "303cd2aa",
   "metadata": {},
   "source": [
    "# Making Prediction model"
   ]
  },
  {
   "cell_type": "code",
   "execution_count": 28,
   "id": "3fd95a96",
   "metadata": {},
   "outputs": [],
   "source": [
    "from sklearn.model_selection import train_test_split"
   ]
  },
  {
   "cell_type": "code",
   "execution_count": 29,
   "id": "0198ad9a",
   "metadata": {},
   "outputs": [
    {
     "data": {
      "text/plain": [
       "array([1964, 1965, 1966, 1967, 1968, 1969, 1970, 1971, 1972, 1973, 1974,\n",
       "       1975, 1976, 1977, 1978, 1979, 1980, 1981, 1982, 1983, 1984, 1985,\n",
       "       1986, 1987, 1988, 1989, 1990, 1991, 1992, 1993, 1994, 1995, 1996,\n",
       "       1997, 1998, 1999, 2000, 2001, 2002, 2003, 2004, 2005, 2007, 2008,\n",
       "       2009, 2010, 2011, 2012, 2013, 2014, 2015, 2016, 2017, 2018, 2019,\n",
       "       2020, 2021, 2022], dtype=int64)"
      ]
     },
     "execution_count": 29,
     "metadata": {},
     "output_type": "execute_result"
    }
   ],
   "source": [
    "# since our motive is to predict price \n",
    "xyear = data['Year']\n",
    "xyear = xyear.to_numpy()\n",
    "xyear"
   ]
  },
  {
   "cell_type": "code",
   "execution_count": 30,
   "id": "2ad8b116",
   "metadata": {},
   "outputs": [
    {
     "data": {
      "text/plain": [
       "array([   63.25,    71.75,    83.75,   102.5 ,   162.  ,   176.  ,\n",
       "         184.  ,   193.  ,   202.  ,   278.5 ,   506.  ,   540.  ,\n",
       "         432.  ,   486.  ,   685.  ,   937.  ,  1330.  ,  1800.  ,\n",
       "        1645.  ,  1800.  ,  1970.  ,  2130.  ,  2140.  ,  2570.  ,\n",
       "        3130.  ,  3140.  ,  3200.  ,  3466.  ,  4334.  ,  4140.  ,\n",
       "        4598.  ,  4680.  ,  5160.  ,  4725.  ,  4045.  ,  4234.  ,\n",
       "        4400.  ,  4300.  ,  4990.  ,  5600.  ,  5850.  ,  7000.  ,\n",
       "       10800.  , 12500.  , 14500.  , 18500.  , 26400.  , 31050.  ,\n",
       "       29600.  , 28006.5 , 26343.5 , 28623.5 , 29667.5 , 31438.  ,\n",
       "       35220.  , 48651.  , 48720.  , 52670.  ])"
      ]
     },
     "execution_count": 30,
     "metadata": {},
     "output_type": "execute_result"
    }
   ],
   "source": [
    "yprice = data['Price_(24_karat_per_10_grams)']\n",
    "yprice = yprice.to_numpy()\n",
    "yprice"
   ]
  },
  {
   "cell_type": "code",
   "execution_count": 31,
   "id": "b7255a54",
   "metadata": {},
   "outputs": [
    {
     "data": {
      "text/plain": [
       "Index(['Year', 'Price_(24_karat_per_10_grams)'], dtype='object')"
      ]
     },
     "execution_count": 31,
     "metadata": {},
     "output_type": "execute_result"
    }
   ],
   "source": [
    "data.columns"
   ]
  },
  {
   "cell_type": "code",
   "execution_count": 32,
   "id": "91b8d60a",
   "metadata": {},
   "outputs": [
    {
     "name": "stdout",
     "output_type": "stream",
     "text": [
      "[ 1800.     184.     162.    7000.    1800.    4598.   28006.5  26343.5\n",
      " 35220.     937.     278.5   3466.    3200.    1330.    3130.    4725.\n",
      " 48651.    5850.     540.    5160.   48720.   12500.    4140.   31438.\n",
      "    71.75  2130.      83.75 18500.    5600.    4234.    2570.   31050.\n",
      "   506.    2140.    1645.   52670.    1970.     193.   10800.     685.\n",
      "  4334.   28623.5   4990.  ]\n",
      "--------------------\n",
      "[1981 1970 1968 2005 1983 1994 2014 2015 2019 1979 1973 1991 1990 1980\n",
      " 1988 1997 2020 2004 1975 1996 2021 2008 1993 2018 1965 1985 1966 2010\n",
      " 2003 1999 1987 2012 1974 1986 1982 2022 1984 1971 2007 1978 1992 2016\n",
      " 2002]\n",
      "--------------------\n",
      "[1964 1969 1998 1977 2009 2017 2001 1989 2011 1976 2013 1967 2000 1995\n",
      " 1972]\n"
     ]
    }
   ],
   "source": [
    "train_set, test_set = train_test_split(data, test_size=0.25, random_state=42)\n",
    "x_train = train_set['Year'].to_numpy()\n",
    "y_train = train_set['Price_(24_karat_per_10_grams)'].to_numpy()\n",
    "x_test = test_set['Year'].to_numpy()\n",
    "y_test = test_set['Price_(24_karat_per_10_grams)'].to_numpy()\n",
    "print(y_train)\n",
    "print(\"--------------------\")\n",
    "print(x_train)\n",
    "print(\"--------------------\")\n",
    "print(x_test)\n",
    "\n",
    "# ----------------\n",
    "\n",
    "# (train_set, test_set), (xtrain, ytest) = data.load_data()"
   ]
  },
  {
   "cell_type": "code",
   "execution_count": 33,
   "id": "f045c8cc",
   "metadata": {},
   "outputs": [],
   "source": [
    "# model for linear regression\n",
    "# libraries\n",
    "from sklearn.linear_model import LinearRegression"
   ]
  },
  {
   "cell_type": "code",
   "execution_count": 34,
   "id": "378b7a44",
   "metadata": {},
   "outputs": [],
   "source": [
    "model = LinearRegression()\n",
    "# model"
   ]
  },
  {
   "cell_type": "code",
   "execution_count": 35,
   "id": "aa9cd4ca",
   "metadata": {},
   "outputs": [
    {
     "name": "stdout",
     "output_type": "stream",
     "text": [
      "1\n",
      "1\n",
      "1\n",
      "1\n"
     ]
    },
    {
     "data": {
      "text/plain": [
       "numpy.ndarray"
      ]
     },
     "execution_count": 35,
     "metadata": {},
     "output_type": "execute_result"
    }
   ],
   "source": [
    "# model.fit(xtrain, xtest)\n",
    "print(x_train.ndim)\n",
    "print(y_train.ndim)\n",
    "print(x_test.ndim)\n",
    "print(y_test.ndim)\n",
    "\n",
    "type(x_train)\n"
   ]
  },
  {
   "cell_type": "code",
   "execution_count": 36,
   "id": "e6dec1a9",
   "metadata": {},
   "outputs": [],
   "source": [
    "# reshaping all these sets will help in fitting these to model\n",
    "x_train = x_train.reshape(-1,1)\n",
    "x_test = x_test.reshape(-1,1)\n",
    "y_train = y_train.reshape(-1,1)\n",
    "y_test = y_test.reshape(-1,1)\n",
    "# print(x_train.shape)\n",
    "# # dim\n",
    "# print(x_train.ndim)\n",
    "# print(y_train.ndim)\n",
    "# print(x_test.ndim)\n",
    "# print(y_test.ndim)\n"
   ]
  },
  {
   "cell_type": "code",
   "execution_count": 37,
   "id": "c4dc699d",
   "metadata": {},
   "outputs": [
    {
     "data": {
      "text/plain": [
       "LinearRegression()"
      ]
     },
     "execution_count": 37,
     "metadata": {},
     "output_type": "execute_result"
    }
   ],
   "source": [
    "model.fit(x_train, y_train)"
   ]
  },
  {
   "cell_type": "code",
   "execution_count": 38,
   "id": "7a883dbd",
   "metadata": {},
   "outputs": [
    {
     "name": "stdout",
     "output_type": "stream",
     "text": [
      "1.0\n",
      "0.5473442956544219\n"
     ]
    }
   ],
   "source": [
    "price_pred = model.predict(x_test)\n",
    "# score of acuracy\n",
    "print(model.score(x_test, price_pred))\n",
    "\n",
    "from sklearn.metrics import r2_score\n",
    "print(r2_score(y_test, price_pred))"
   ]
  },
  {
   "cell_type": "code",
   "execution_count": 39,
   "id": "cdb29680",
   "metadata": {
    "scrolled": true
   },
   "outputs": [
    {
     "name": "stdout",
     "output_type": "stream",
     "text": [
      "Original:\n",
      " [[   63.25]\n",
      " [  176.  ]\n",
      " [ 4045.  ]\n",
      " [  486.  ]\n",
      " [14500.  ]\n",
      " [29667.5 ]\n",
      " [ 4300.  ]\n",
      " [ 3140.  ]\n",
      " [26400.  ]\n",
      " [  432.  ]\n",
      " [29600.  ]\n",
      " [  102.5 ]\n",
      " [ 4400.  ]\n",
      " [ 4680.  ]\n",
      " [  202.  ]]\n",
      "========================\n",
      "Prediction:\n",
      " [[-10913.82601219]\n",
      " [ -7289.63239093]\n",
      " [ 13730.69061238]\n",
      " [ -1490.92259692]\n",
      " [ 21703.91657915]\n",
      " [ 27502.62637316]\n",
      " [ 15905.20678513]\n",
      " [  7207.14209411]\n",
      " [ 23153.59402765]\n",
      " [ -2215.76132117]\n",
      " [ 24603.27147615]\n",
      " [ -8739.30983944]\n",
      " [ 15180.36806088]\n",
      " [ 11556.17443962]\n",
      " [ -5115.11621818]]\n"
     ]
    }
   ],
   "source": [
    "print(\"Original:\\n\", y_test)\n",
    "print(\"========================\")\n",
    "print(\"Prediction:\\n\", price_pred)"
   ]
  },
  {
   "cell_type": "code",
   "execution_count": 40,
   "id": "c918e732",
   "metadata": {},
   "outputs": [
    {
     "data": {
      "text/plain": [
       "array([[31851.65871867]])"
      ]
     },
     "execution_count": 40,
     "metadata": {},
     "output_type": "execute_result"
    }
   ],
   "source": [
    "# prediction\n",
    "model.predict([[2023]])"
   ]
  },
  {
   "cell_type": "code",
   "execution_count": 41,
   "id": "dec4d399",
   "metadata": {},
   "outputs": [],
   "source": [
    "# saving model as \"name.sav\" or \"name.pkl\"\n",
    "# import joblib\n",
    "import pickle\n",
    "pickle.dump(model, open(\"model.pkl\", \"wb\"))"
   ]
  },
  {
   "cell_type": "code",
   "execution_count": 42,
   "id": "e4540024",
   "metadata": {},
   "outputs": [],
   "source": [
    "def load_model():\n",
    "    with open('model.pkl', 'rb') as f:\n",
    "        data = pickle.load(f)"
   ]
  },
  {
   "cell_type": "code",
   "execution_count": 43,
   "id": "8a09a4d4",
   "metadata": {},
   "outputs": [
    {
     "data": {
      "text/plain": [
       "array([[31851.65871867]])"
      ]
     },
     "execution_count": 43,
     "metadata": {},
     "output_type": "execute_result"
    }
   ],
   "source": [
    "model.predict([[2023]])"
   ]
  },
  {
   "cell_type": "code",
   "execution_count": 44,
   "id": "2a572616",
   "metadata": {},
   "outputs": [],
   "source": [
    "# GUI APPLICATION\n",
    "from tkinter import *"
   ]
  },
  {
   "cell_type": "code",
   "execution_count": 46,
   "id": "fc8f2307",
   "metadata": {},
   "outputs": [],
   "source": [
    "# Create an instance of tkinter frame or window\n",
    "win = Tk()\n",
    "\n",
    "# Set the size of the tkinter window\n",
    "win.geometry(\"500x500\")\n",
    "win.title(\"Prediction Application\")\n",
    "# Create a label widget, and \n",
    "tasklabel = Label(win, text = \"Gold Price Prediction\", bg = 'black',fg='white')\n",
    "tasklabel.pack()\n",
    "\n",
    "Year = Label(win, text=\"Enter Your Year: \")\n",
    "Year.pack()\n",
    "YearEntry = Entry(win)\n",
    "YearEntry.pack()\n",
    "\n",
    "def values():\n",
    "    global p1 #our 1st input variable\n",
    "    p1 = int(YearEntry.get()) \n",
    "    global l_model\n",
    "    l_model = load_model\n",
    "    Prediction_result  = ('Predicted Gold Price: ', model.predict([[p1]]))\n",
    "    predict_label = Label(win, text= Prediction_result, bg='orange')\n",
    "    predict_label.pack()\n",
    "\n",
    "predictbtn = Button (win, text='Predict',command=values, bg='grey')\n",
    "predictbtn.pack()\n",
    "\n",
    "win.mainloop()"
   ]
  },
  {
   "cell_type": "code",
   "execution_count": null,
   "id": "18c235d5",
   "metadata": {},
   "outputs": [],
   "source": []
  }
 ],
 "metadata": {
  "kernelspec": {
   "display_name": "Python 3 (ipykernel)",
   "language": "python",
   "name": "python3"
  },
  "language_info": {
   "codemirror_mode": {
    "name": "ipython",
    "version": 3
   },
   "file_extension": ".py",
   "mimetype": "text/x-python",
   "name": "python",
   "nbconvert_exporter": "python",
   "pygments_lexer": "ipython3",
   "version": "3.9.13"
  }
 },
 "nbformat": 4,
 "nbformat_minor": 5
}
